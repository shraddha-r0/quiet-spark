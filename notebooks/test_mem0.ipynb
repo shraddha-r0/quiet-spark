{
 "cells": [
  {
   "cell_type": "markdown",
   "metadata": {},
   "source": [
    "# mem0 Client Test Notebook\n",
    "This notebook demonstrates basic usage of the mem0 client."
   ]
  },
  {
   "cell_type": "code",
   "execution_count": 8,
   "metadata": {},
   "outputs": [],
   "source": [
    "from mem0 import MemoryClient\n",
    "import os\n",
    "from pathlib import Path\n",
    "import yaml"
   ]
  },
  {
   "cell_type": "code",
   "execution_count": 3,
   "metadata": {},
   "outputs": [
    {
     "name": "stdout",
     "output_type": "stream",
     "text": [
      "Client initialized successfully!\n"
     ]
    }
   ],
   "source": [
    "# Initialize the client with your API key\n",
    "client = MemoryClient(api_key=\"m0-yrm9R5BC9OY49ZRIVrAnlqVEV6bdG9GEt82ol1FI\")\n",
    "\n",
    "# Test basic functionality\n",
    "print(\"Client initialized successfully!\")"
   ]
  },
  {
   "cell_type": "markdown",
   "metadata": {},
   "source": [
    "## Basic Operations\n",
    "Let's test some basic operations with the mem0 client."
   ]
  },
  {
   "cell_type": "code",
   "execution_count": 4,
   "metadata": {},
   "outputs": [
    {
     "name": "stderr",
     "output_type": "stream",
     "text": [
      "/opt/anaconda3/lib/python3.11/site-packages/mem0/client/main.py:34: DeprecationWarning: output_format='v1.0' is deprecated therefore setting it to 'v1.1' by default. Check out the docs for more information: https://docs.mem0.ai/platform/quickstart#4-1-create-memories\n",
      "  return func(*args, **kwargs)\n"
     ]
    },
    {
     "data": {
      "text/plain": [
       "{'results': []}"
      ]
     },
     "execution_count": 4,
     "metadata": {},
     "output_type": "execute_result"
    }
   ],
   "source": [
    "messages = [\n",
    "    { \"role\": \"user\", \"content\": \"Hi, I'm Alex. I'm a vegetarian and I'm allergic to nuts.\" },\n",
    "    { \"role\": \"assistant\", \"content\": \"Hello Alex! I see that you're a vegetarian with a nut allergy.\" }\n",
    "]\n",
    "\n",
    "client.add(messages, user_id=\"alex\")\n"
   ]
  },
  {
   "cell_type": "code",
   "execution_count": 5,
   "metadata": {},
   "outputs": [
    {
     "data": {
      "text/plain": [
       "[{'id': '6a32126c-1fe6-4823-8aeb-de92cb66b5d0',\n",
       "  'memory': 'Is a vegetarian',\n",
       "  'user_id': 'alex',\n",
       "  'metadata': None,\n",
       "  'categories': ['user_preferences', 'food'],\n",
       "  'created_at': '2025-06-29T22:30:42.114004-07:00',\n",
       "  'updated_at': '2025-06-29T22:30:42.133572-07:00',\n",
       "  'expiration_date': None,\n",
       "  'structured_attributes': {'day': 30,\n",
       "   'hour': 5,\n",
       "   'year': 2025,\n",
       "   'month': 6,\n",
       "   'minute': 30,\n",
       "   'quarter': 2,\n",
       "   'is_weekend': False,\n",
       "   'day_of_week': 'monday',\n",
       "   'day_of_year': 181,\n",
       "   'week_of_year': 27},\n",
       "  'internal_metadata': None,\n",
       "  'deleted_at': None,\n",
       "  'score': 0.30164014110804493}]"
      ]
     },
     "execution_count": 5,
     "metadata": {},
     "output_type": "execute_result"
    }
   ],
   "source": [
    "query = \"What can I cook for dinner tonight?\"\n",
    "client.search(query, user_id=\"alex\")\n"
   ]
  },
  {
   "cell_type": "code",
   "execution_count": null,
   "metadata": {},
   "outputs": [
    {
     "name": "stderr",
     "output_type": "stream",
     "text": [
      "/opt/anaconda3/lib/python3.11/site-packages/mem0/client/main.py:34: DeprecationWarning: output_format='v1.0' is deprecated therefore setting it to 'v1.1' by default. Check out the docs for more information: https://docs.mem0.ai/platform/quickstart#4-1-create-memories\n",
      "  return func(*args, **kwargs)\n"
     ]
    }
   ],
   "source": [
    "# Load profile config\n",
    "profile_path = Path(\"../config/shraddha_profile.yaml\")\n",
    "\n",
    "# Load YAML\n",
    "with open(profile_path, \"r\") as f:\n",
    "    profile = yaml.safe_load(f)\n",
    "\n",
    "# Initialize Mem0 client with the API key\n",
    "client = MemoryClient(api_key=\"m0-yrm9R5BC9OY49ZRIVrAnlqVEV6bdG9GEt82ol1FI\")\n",
    "\n",
    "# Seed memory with YAML content\n",
    "messages = []\n",
    "for section in [\"identity\", \"values\", \"tools_used\", \"goals\"]:\n",
    "    content = profile.get(section, {})\n",
    "    if isinstance(content, dict):\n",
    "        for key, val in content.items():\n",
    "            messages.append({\"role\": \"user\", \"content\": f\"{section}.{key}: {val}\"})\n",
    "    elif isinstance(content, list):\n",
    "        for val in content:\n",
    "            messages.append({\"role\": \"user\", \"content\": f\"{section}: {val}\"})\n",
    "\n",
    "# Add to memory in one go\n",
    "response = client.add(messages=messages, user_id=\"shraddha\", version=\"v2\")\n",
    "print(\"Seeded memory:\", response)"
   ]
  },
  {
   "cell_type": "code",
   "execution_count": null,
   "metadata": {},
   "outputs": [],
   "source": [
    "question = \"What are Shraddha's values?\"\n",
    "response = client.query_memory(question)\n",
    "print(\"Answer:\", response)"
   ]
  }
 ],
 "metadata": {
  "kernelspec": {
   "display_name": "base",
   "language": "python",
   "name": "python3"
  },
  "language_info": {
   "codemirror_mode": {
    "name": "ipython",
    "version": 3
   },
   "file_extension": ".py",
   "mimetype": "text/x-python",
   "name": "python",
   "nbconvert_exporter": "python",
   "pygments_lexer": "ipython3",
   "version": "3.11.7"
  }
 },
 "nbformat": 4,
 "nbformat_minor": 4
}
